{
  "nbformat": 4,
  "nbformat_minor": 0,
  "metadata": {
    "kernelspec": {
      "name": "python3",
      "display_name": "Python 3"
    },
    "colab": {
      "name": "lesson5-sgd-mnist.ipynb",
      "provenance": [],
      "collapsed_sections": [],
      "toc_visible": true,
      "include_colab_link": true
    },
    "accelerator": "GPU"
  },
  "cells": [
    {
      "cell_type": "markdown",
      "metadata": {
        "id": "view-in-github",
        "colab_type": "text"
      },
      "source": [
        "<a href=\"https://colab.research.google.com/github/Jinyong-20/Machine_Learning_Programming/blob/master/lesson5_sgd_mnist.ipynb\" target=\"_parent\"><img src=\"https://colab.research.google.com/assets/colab-badge.svg\" alt=\"Open In Colab\"/></a>"
      ]
    },
    {
      "cell_type": "code",
      "metadata": {
        "id": "KNf4eFvBvCj7",
        "colab_type": "code",
        "colab": {}
      },
      "source": [
        "%matplotlib inline\n",
        "from fastai.basics import *"
      ],
      "execution_count": 0,
      "outputs": []
    },
    {
      "cell_type": "code",
      "metadata": {
        "id": "HGJ0tz45RKMQ",
        "colab_type": "code",
        "colab": {
          "base_uri": "https://localhost:8080/",
          "height": 35
        },
        "outputId": "2e44e625-59f8-4dcd-afb4-21825f2e369c"
      },
      "source": [
        "from google.colab import drive\n",
        "drive.mount('/content/gdrive', force_remount=True)\n",
        "root_dir = \"/content/gdrive/My Drive/\"\n",
        "base_dir = root_dir + 'fastai-v3/'"
      ],
      "execution_count": 3,
      "outputs": [
        {
          "output_type": "stream",
          "text": [
            "Mounted at /content/gdrive\n"
          ],
          "name": "stdout"
        }
      ]
    },
    {
      "cell_type": "markdown",
      "metadata": {
        "id": "xtA7WWdQRbj8",
        "colab_type": "text"
      },
      "source": [
        "\\# 드라이브 마운트 및 함수 임포트\n",
        "%matplotlib inline - 그림으로 표현"
      ]
    },
    {
      "cell_type": "markdown",
      "metadata": {
        "id": "js_Gir3HvCj-",
        "colab_type": "text"
      },
      "source": [
        "## MNIST SGD"
      ]
    },
    {
      "cell_type": "markdown",
      "metadata": {
        "id": "QliGS2c2vCj_",
        "colab_type": "text"
      },
      "source": [
        "Get the 'pickled' MNIST dataset from http://deeplearning.net/data/mnist/mnist.pkl.gz. We're going to treat it as a standard flat dataset with fully connected layers, rather than using a CNN."
      ]
    },
    {
      "cell_type": "code",
      "metadata": {
        "id": "RV2qQc0ZvCj_",
        "colab_type": "code",
        "colab": {
          "base_uri": "https://localhost:8080/",
          "height": 35
        },
        "outputId": "8c789456-b4b8-4c31-85aa-2db94d8d6484"
      },
      "source": [
        "path = Config().data_path()/'mnist'\n",
        "path.mkdir(parents=True, exist_ok=True)\n",
        "path.ls()"
      ],
      "execution_count": 4,
      "outputs": [
        {
          "output_type": "execute_result",
          "data": {
            "text/plain": [
              "[PosixPath('/root/.fastai/data/mnist/mnist.pkl.gz')]"
            ]
          },
          "metadata": {
            "tags": []
          },
          "execution_count": 4
        }
      ]
    },
    {
      "cell_type": "markdown",
      "metadata": {
        "id": "tLwHMSe1U3yC",
        "colab_type": "text"
      },
      "source": [
        "\\# 디렉토리 생성 및 패스 설정"
      ]
    },
    {
      "cell_type": "code",
      "metadata": {
        "id": "7KdVww8hUZjI",
        "colab_type": "code",
        "colab": {
          "base_uri": "https://localhost:8080/",
          "height": 35
        },
        "outputId": "abda84eb-0e84-473a-ec17-622f1bb0df58"
      },
      "source": [
        "path"
      ],
      "execution_count": 5,
      "outputs": [
        {
          "output_type": "execute_result",
          "data": {
            "text/plain": [
              "PosixPath('/root/.fastai/data/mnist')"
            ]
          },
          "metadata": {
            "tags": []
          },
          "execution_count": 5
        }
      ]
    },
    {
      "cell_type": "code",
      "metadata": {
        "id": "UHg0VfsqUKir",
        "colab_type": "code",
        "colab": {
          "base_uri": "https://localhost:8080/",
          "height": 35
        },
        "outputId": "60cffe13-5f5f-4a33-c639-b8f338a0dc3d"
      },
      "source": [
        "! mv '/content/gdrive/My Drive/Colab Notebooks/mnist.pkl.gz' '/root/.fastai/data/mnist'"
      ],
      "execution_count": 6,
      "outputs": [
        {
          "output_type": "stream",
          "text": [
            "mv: cannot stat '/content/gdrive/My Drive/Colab Notebooks/mnist.pkl.gz': No such file or directory\n"
          ],
          "name": "stdout"
        }
      ]
    },
    {
      "cell_type": "markdown",
      "metadata": {
        "id": "Oq2xuLHDUvt5",
        "colab_type": "text"
      },
      "source": [
        "\\# 직접 파일 업로드 후 이동"
      ]
    },
    {
      "cell_type": "code",
      "metadata": {
        "id": "Z99OIsAXvCkB",
        "colab_type": "code",
        "outputId": "cc980ead-db06-45c8-b745-7cfbb84cf9af",
        "colab": {
          "base_uri": "https://localhost:8080/",
          "height": 35
        }
      },
      "source": [
        "path.ls()"
      ],
      "execution_count": 7,
      "outputs": [
        {
          "output_type": "execute_result",
          "data": {
            "text/plain": [
              "[PosixPath('/root/.fastai/data/mnist/mnist.pkl.gz')]"
            ]
          },
          "metadata": {
            "tags": []
          },
          "execution_count": 7
        }
      ]
    },
    {
      "cell_type": "markdown",
      "metadata": {
        "id": "9XfnXnkkU6IN",
        "colab_type": "text"
      },
      "source": [
        "\\# 패스 경로에 위치한 파일 출력"
      ]
    },
    {
      "cell_type": "code",
      "metadata": {
        "id": "Ag_tLxJFvCkD",
        "colab_type": "code",
        "colab": {}
      },
      "source": [
        "with gzip.open(path/'mnist.pkl.gz', 'rb') as f:\n",
        "    ((x_train, y_train), (x_valid, y_valid), _) = pickle.load(f, encoding='latin-1')"
      ],
      "execution_count": 0,
      "outputs": []
    },
    {
      "cell_type": "markdown",
      "metadata": {
        "id": "g06tTSOCVcr2",
        "colab_type": "text"
      },
      "source": [
        "\\# 경로에 있던 압축파일을 압축 풀기\n",
        "- 유니코드로 인코딩하여 로드"
      ]
    },
    {
      "cell_type": "code",
      "metadata": {
        "id": "FzFc_JgQWuys",
        "colab_type": "code",
        "colab": {
          "base_uri": "https://localhost:8080/",
          "height": 1000
        },
        "outputId": "2200718d-383e-49d4-af59-a2cb1e1708aa"
      },
      "source": [
        "doc(plt.imshow)"
      ],
      "execution_count": 9,
      "outputs": [
        {
          "output_type": "display_data",
          "data": {
            "text/html": [
              "<h4 id=\"imshow\" class=\"doc_header\"><code>imshow</code><a class=\"source_link\" data-toggle=\"collapse\" data-target=\"#imshow-pytest\" style=\"float:right; padding-right:10px\">[test]</a></h4><blockquote><p><code>imshow</code>(<strong><code>X</code></strong>, <strong><code>cmap</code></strong>=<strong><em><code>None</code></em></strong>, <strong><code>norm</code></strong>=<strong><em><code>None</code></em></strong>, <strong><code>aspect</code></strong>=<strong><em><code>None</code></em></strong>, <strong><code>interpolation</code></strong>=<strong><em><code>None</code></em></strong>, <strong><code>alpha</code></strong>=<strong><em><code>None</code></em></strong>, <strong><code>vmin</code></strong>=<strong><em><code>None</code></em></strong>, <strong><code>vmax</code></strong>=<strong><em><code>None</code></em></strong>, <strong><code>origin</code></strong>=<strong><em><code>None</code></em></strong>, <strong><code>extent</code></strong>=<strong><em><code>None</code></em></strong>, <strong><code>shape</code></strong>=<strong><em><code>&lt;deprecated parameter&gt;</code></em></strong>, <strong><code>filternorm</code></strong>=<strong><em><code>1</code></em></strong>, <strong><code>filterrad</code></strong>=<strong><em><code>4.0</code></em></strong>, <strong><code>imlim</code></strong>=<strong><em><code>&lt;deprecated parameter&gt;</code></em></strong>, <strong><code>resample</code></strong>=<strong><em><code>None</code></em></strong>, <strong><code>url</code></strong>=<strong><em><code>None</code></em></strong>, <strong><code>data</code></strong>=<strong><em><code>None</code></em></strong>, <strong>**<code>kwargs</code></strong>)</p>\n",
              "</blockquote>\n",
              "<div class=\"collapse\" id=\"imshow-pytest\"><div class=\"card card-body pytest_card\"><a type=\"button\" data-toggle=\"collapse\" data-target=\"#imshow-pytest\" class=\"close\" aria-label=\"Close\"><span aria-hidden=\"true\">&times;</span></a><p>No tests found for <code>imshow</code>. To contribute a test please refer to <a href=\"/dev/test.html\">this guide</a> and <a href=\"https://forums.fast.ai/t/improving-expanding-functional-tests/32929\">this discussion</a>.</p></div></div><p>Display data as an image; i.e. on a 2D regular raster. The input may either be actual RGB(A) data, or 2D scalar data, which\n",
              "will be rendered as a pseudocolor image. Note: For actually displaying\n",
              "a grayscale image set up the color mapping using the parameters\n",
              "<code>cmap='gray', vmin=0, vmax=255</code>.</p>\n",
              "<h2 id=\"Parameters\">Parameters<a class=\"anchor-link\" href=\"#Parameters\">&#182;</a></h2><p>X : array-like or PIL image\n",
              "    The image data. Supported array shapes are:</p>\n",
              "\n",
              "<pre><code>- (M, N): an image with scalar data. The values are mapped to\n",
              "  colors using normalization and a colormap. See parameters *norm*,\n",
              "  *cmap*, *vmin*, *vmax*.\n",
              "- (M, N, 3): an image with RGB values (0-1 float or 0-255 int).\n",
              "- (M, N, 4): an image with RGBA values (0-1 float or 0-255 int),\n",
              "  i.e. including transparency.\n",
              "\n",
              "The first two dimensions (M, N) define the rows and columns of\n",
              "the image.\n",
              "\n",
              "Out-of-range RGB(A) values are clipped.\n",
              "\n",
              "</code></pre>\n",
              "<p>cmap : str or <code>~matplotlib.colors.Colormap</code>, optional\n",
              "    The Colormap instance or registered colormap name used to map\n",
              "    scalar data to colors. This parameter is ignored for RGB(A) data.\n",
              "    Defaults to :rc:<code>image.cmap</code>.</p>\n",
              "<p>norm : <code>~matplotlib.colors.Normalize</code>, optional\n",
              "    The <code>Normalize</code> instance used to scale scalar data to the [0, 1]\n",
              "    range before mapping to colors using <em>cmap</em>. By default, a linear\n",
              "    scaling mapping the lowest value to 0 and the highest to 1 is used.\n",
              "    This parameter is ignored for RGB(A) data.</p>\n",
              "<p>aspect : {'equal', 'auto'} or float, optional\n",
              "    Controls the aspect ratio of the axes. The aspect is of particular\n",
              "    relevance for images since it may distort the image, i.e. pixel\n",
              "    will not be square.</p>\n",
              "\n",
              "<pre><code>This parameter is a shortcut for explicitly calling\n",
              "`.Axes.set_aspect`. See there for further details.\n",
              "\n",
              "- 'equal': Ensures an aspect ratio of 1. Pixels will be square\n",
              "  (unless pixel sizes are explicitly made non-square in data\n",
              "  coordinates using *extent*).\n",
              "- 'auto': The axes is kept fixed and the aspect is adjusted so\n",
              "  that the data fit in the axes. In general, this will result in\n",
              "  non-square pixels.\n",
              "\n",
              "If not given, use :rc:`image.aspect`.\n",
              "\n",
              "</code></pre>\n",
              "<p>interpolation : str, optional\n",
              "    The interpolation method used. If <em>None</em>, :rc:<code>image.interpolation</code>\n",
              "    is used.</p>\n",
              "\n",
              "<pre><code>Supported values are 'none', 'antialiased', 'nearest', 'bilinear',\n",
              "'bicubic', 'spline16', 'spline36', 'hanning', 'hamming', 'hermite',\n",
              "'kaiser', 'quadric', 'catrom', 'gaussian', 'bessel', 'mitchell',\n",
              "'sinc', 'lanczos'.\n",
              "\n",
              "If *interpolation* is 'none', then no interpolation is performed\n",
              "on the Agg, ps, pdf and svg backends. Other backends will fall back\n",
              "to 'nearest'. Note that most SVG renders perform interpolation at\n",
              "rendering and that the default interpolation method they implement\n",
              "may differ.\n",
              "\n",
              "If *interpolation* is the default 'antialiased', then 'nearest'\n",
              "interpolation is used if the image is upsampled by more than a\n",
              "factor of three (i.e. the number of display pixels is at least\n",
              "three times the size of the data array).  If the upsampling rate is\n",
              "smaller than 3, or the image is downsampled, then 'hanning'\n",
              "interpolation is used to act as an anti-aliasing filter, unless the\n",
              "image happens to be upsampled by exactly a factor of two or one.\n",
              "\n",
              "See\n",
              ":doc:`/gallery/images_contours_and_fields/interpolation_methods`\n",
              "for an overview of the supported interpolation methods, and\n",
              ":doc:`/gallery/images_contours_and_fields/image_antialiasing` for\n",
              "a discussion of image antialiasing.\n",
              "\n",
              "Some interpolation methods require an additional radius parameter,\n",
              "which can be set by *filterrad*. Additionally, the antigrain image\n",
              "resize filter is controlled by the parameter *filternorm*.\n",
              "\n",
              "</code></pre>\n",
              "<p>alpha : scalar or array-like, optional\n",
              "    The alpha blending value, between 0 (transparent) and 1 (opaque).\n",
              "    If <em>alpha</em> is an array, the alpha blending values are applied pixel\n",
              "    by pixel, and <em>alpha</em> must have the same shape as <em>X</em>.</p>\n",
              "<p>vmin, vmax : scalar, optional\n",
              "    When using scalar data and no explicit <em>norm</em>, <em>vmin</em> and <em>vmax</em>\n",
              "    define the data range that the colormap covers. By default,\n",
              "    the colormap covers the complete value range of the supplied\n",
              "    data. <em>vmin</em>, <em>vmax</em> are ignored if the <em>norm</em> parameter is used.</p>\n",
              "<p>origin : {'upper', 'lower'}, optional\n",
              "    Place the [0, 0] index of the array in the upper left or lower left\n",
              "    corner of the axes. The convention 'upper' is typically used for\n",
              "    matrices and images.\n",
              "    If not given, :rc:<code>image.origin</code> is used, defaulting to 'upper'.</p>\n",
              "\n",
              "<pre><code>Note that the vertical axes points upward for 'lower'\n",
              "but downward for 'upper'.\n",
              "\n",
              "See the :doc:`/tutorials/intermediate/imshow_extent` tutorial for\n",
              "examples and a more detailed description.\n",
              "\n",
              "</code></pre>\n",
              "<p>extent : scalars (left, right, bottom, top), optional\n",
              "    The bounding box in data coordinates that the image will fill.\n",
              "    The image is stretched individually along x and y to fill the box.</p>\n",
              "\n",
              "<pre><code>The default extent is determined by the following conditions.\n",
              "Pixels have unit size in data coordinates. Their centers are on\n",
              "integer coordinates, and their center coordinates range from 0 to\n",
              "columns-1 horizontally and from 0 to rows-1 vertically.\n",
              "\n",
              "Note that the direction of the vertical axis and thus the default\n",
              "values for top and bottom depend on *origin*:\n",
              "\n",
              "- For ``origin == 'upper'`` the default is\n",
              "  ``(-0.5, numcols-0.5, numrows-0.5, -0.5)``.\n",
              "- For ``origin == 'lower'`` the default is\n",
              "  ``(-0.5, numcols-0.5, -0.5, numrows-0.5)``.\n",
              "\n",
              "See the :doc:`/tutorials/intermediate/imshow_extent` tutorial for\n",
              "examples and a more detailed description.\n",
              "\n",
              "</code></pre>\n",
              "<p>filternorm : bool, optional, default: True\n",
              "    A parameter for the antigrain image resize filter (see the\n",
              "    antigrain documentation).  If <em>filternorm</em> is set, the filter\n",
              "    normalizes integer values and corrects the rounding errors. It\n",
              "    doesn't do anything with the source floating point values, it\n",
              "    corrects only integers according to the rule of 1.0 which means\n",
              "    that any sum of pixel weights must be equal to 1.0.  So, the\n",
              "    filter function must produce a graph of the proper shape.</p>\n",
              "<p>filterrad : float &gt; 0, optional, default: 4.0\n",
              "    The filter radius for filters that have a radius parameter, i.e.\n",
              "    when interpolation is one of: 'sinc', 'lanczos' or 'blackman'.</p>\n",
              "<p>resample : bool, optional\n",
              "    When <em>True</em>, use a full resampling method.  When <em>False</em>, only\n",
              "    resample when the output image is larger than the input image.</p>\n",
              "<p>url : str, optional\n",
              "    Set the url of the created <code>.AxesImage</code>. See <code>.Artist.set_url</code>.</p>\n",
              "<h2 id=\"Returns\">Returns<a class=\"anchor-link\" href=\"#Returns\">&#182;</a></h2><p>image : <code>~matplotlib.image.AxesImage</code></p>\n",
              "<h2 id=\"Other-Parameters\">Other Parameters<a class=\"anchor-link\" href=\"#Other-Parameters\">&#182;</a></h2><p>**kwargs : <code>~matplotlib.artist.Artist</code> properties\n",
              "    These parameters are passed on to the constructor of the\n",
              "    <code>.AxesImage</code> artist.</p>\n",
              "<h2 id=\"See-also\">See also<a class=\"anchor-link\" href=\"#See-also\">&#182;</a></h2><p>matshow : Plot a matrix or an array as an image.</p>\n",
              "<h2 id=\"Notes\">Notes<a class=\"anchor-link\" href=\"#Notes\">&#182;</a></h2><p>Unless <em>extent</em> is used, pixel centers will be located at integer\n",
              "coordinates. In other words: the origin will coincide with the center\n",
              "of pixel (0, 0).</p>\n",
              "<p>There are two common representations for RGB images with an alpha\n",
              "channel:</p>\n",
              "<ul>\n",
              "<li>Straight (unassociated) alpha: R, G, and B channels represent the\n",
              "color of the pixel, disregarding its opacity.</li>\n",
              "<li>Premultiplied (associated) alpha: R, G, and B channels represent\n",
              "the color of the pixel, adjusted for its opacity by multiplication.</li>\n",
              "</ul>\n",
              "<p><code>~matplotlib.pyplot.imshow</code> expects RGB images adopting the straight\n",
              "(unassociated) alpha representation.</p>\n",
              "<p>.. note::\n",
              "    In addition to the above described arguments, this function can take a\n",
              "    <strong>data</strong> keyword argument. If such a <strong>data</strong> argument is given, the\n",
              "    following arguments are replaced by <strong>data[<arg>]</strong>:</p>\n",
              "\n",
              "<pre><code>* All positional and all keyword arguments.\n",
              "\n",
              "Objects passed as **data** must support item access (``data[&lt;arg&gt;]``) and\n",
              "membership test (``&lt;arg&gt; in data``). </code></pre>\n"
            ],
            "text/plain": [
              "<IPython.core.display.HTML object>"
            ]
          },
          "metadata": {
            "tags": []
          }
        }
      ]
    },
    {
      "cell_type": "code",
      "metadata": {
        "id": "9-iuFm0FvCkF",
        "colab_type": "code",
        "outputId": "6f5d5c36-d7fc-4a9f-975b-0be3ccd89882",
        "colab": {
          "base_uri": "https://localhost:8080/",
          "height": 283
        }
      },
      "source": [
        "plt.imshow(x_train[0].reshape((28,28)), cmap=\"gray\")\n",
        "x_train.shape"
      ],
      "execution_count": 10,
      "outputs": [
        {
          "output_type": "execute_result",
          "data": {
            "text/plain": [
              "(50000, 784)"
            ]
          },
          "metadata": {
            "tags": []
          },
          "execution_count": 10
        },
        {
          "output_type": "display_data",
          "data": {
            "image/png": "[encoded data removed]",
            "text/plain": [
              "<Figure size 432x288 with 1 Axes>"
            ]
          },
          "metadata": {
            "tags": [],
            "needs_background": "light"
          }
        }
      ]
    },
    {
      "cell_type": "markdown",
      "metadata": {
        "id": "bdeGtQbbVzS5",
        "colab_type": "text"
      },
      "source": [
        "\\# 이미지로 출력, 색상은 회색, 사이즈는 28x28로"
      ]
    },
    {
      "cell_type": "code",
      "metadata": {
        "id": "YJtRb3zRvCkH",
        "colab_type": "code",
        "outputId": "7b7f8e43-a105-4d48-bd61-5fa3cd469344",
        "colab": {
          "base_uri": "https://localhost:8080/",
          "height": 35
        }
      },
      "source": [
        "x_train,y_train,x_valid,y_valid = map(torch.tensor, (x_train,y_train,x_valid,y_valid))\n",
        "n,c = x_train.shape\n",
        "x_train.shape, y_train.min(), y_train.max()"
      ],
      "execution_count": 11,
      "outputs": [
        {
          "output_type": "execute_result",
          "data": {
            "text/plain": [
              "(torch.Size([50000, 784]), tensor(0), tensor(9))"
            ]
          },
          "metadata": {
            "tags": []
          },
          "execution_count": 11
        }
      ]
    },
    {
      "cell_type": "markdown",
      "metadata": {
        "id": "30v9ZCJKYAa2",
        "colab_type": "text"
      },
      "source": [
        "\\# tensor에 매핑, n,c에 x_train 사이즈 저장, y_train최대 최소 출력"
      ]
    },
    {
      "cell_type": "markdown",
      "metadata": {
        "id": "XyWHInsovCkJ",
        "colab_type": "text"
      },
      "source": [
        "In lesson2-sgd we did these things ourselves:\n",
        "\n",
        "```python\n",
        "x = torch.ones(n,2) \n",
        "def mse(y_hat, y): return ((y_hat-y)**2).mean()\n",
        "y_hat = x@a\n",
        "```\n",
        "\n",
        "Now instead we'll use PyTorch's functions to do it for us, and also to handle mini-batches (which we didn't do last time, since our dataset was so small)."
      ]
    },
    {
      "cell_type": "code",
      "metadata": {
        "id": "vF4geY6ivCkK",
        "colab_type": "code",
        "colab": {}
      },
      "source": [
        "bs=64\n",
        "train_ds = TensorDataset(x_train, y_train)\n",
        "valid_ds = TensorDataset(x_valid, y_valid)\n",
        "data = DataBunch.create(train_ds, valid_ds, bs=bs)"
      ],
      "execution_count": 0,
      "outputs": []
    },
    {
      "cell_type": "markdown",
      "metadata": {
        "id": "zMmUAQLSYa5Y",
        "colab_type": "text"
      },
      "source": [
        "\\# 배치사이즈는 64, tensor 데이터 셋 생성, 데이터 번치 생성"
      ]
    },
    {
      "cell_type": "code",
      "metadata": {
        "id": "H94Lt5KmvCkM",
        "colab_type": "code",
        "outputId": "7c359722-ac65-42a0-a652-d58d4a9dd744",
        "colab": {
          "base_uri": "https://localhost:8080/",
          "height": 35
        }
      },
      "source": [
        "x,y = next(iter(data.train_dl))\n",
        "x.shape,y.shape"
      ],
      "execution_count": 13,
      "outputs": [
        {
          "output_type": "execute_result",
          "data": {
            "text/plain": [
              "(torch.Size([64, 784]), torch.Size([64]))"
            ]
          },
          "metadata": {
            "tags": []
          },
          "execution_count": 13
        }
      ]
    },
    {
      "cell_type": "code",
      "metadata": {
        "id": "hqDfboZAZLi4",
        "colab_type": "code",
        "colab": {
          "base_uri": "https://localhost:8080/",
          "height": 1000
        },
        "outputId": "949d79ba-d72f-47cd-d6e3-c85e1c06ca33"
      },
      "source": [
        "help(data)"
      ],
      "execution_count": 14,
      "outputs": [
        {
          "output_type": "stream",
          "text": [
            "Help on DataBunch in module fastai.basic_data object:\n",
            "\n",
            "class DataBunch(builtins.object)\n",
            " |  Bind `train_dl`,`valid_dl` and `test_dl` in a data object.\n",
            " |  \n",
            " |  Methods defined here:\n",
            " |  \n",
            " |  __getattr__(self, k:int) -> Any\n",
            " |  \n",
            " |  __init__(self, train_dl:torch.utils.data.dataloader.DataLoader, valid_dl:torch.utils.data.dataloader.DataLoader, fix_dl:torch.utils.data.dataloader.DataLoader=None, test_dl:Union[torch.utils.data.dataloader.DataLoader, NoneType]=None, device:torch.device=None, dl_tfms:Union[Collection[Callable], NoneType]=None, path:Union[pathlib.Path, str]='.', collate_fn:Callable=<function data_collate at 0x7f5ccb36b400>, no_check:bool=False)\n",
            " |      Initialize self.  See help(type(self)) for accurate signature.\n",
            " |  \n",
            " |  __repr__(self) -> str\n",
            " |      Return repr(self).\n",
            " |  \n",
            " |  __setstate__(self, data:Any)\n",
            " |  \n",
            " |  add_test(self, items:Iterator, label:Any=None, tfms=None, tfm_y=None) -> None\n",
            " |      Add the `items` as a test set. Pass along `label` otherwise label them with `EmptyLabel`.\n",
            " |  \n",
            " |  add_tfm(self, tfm:Callable) -> None\n",
            " |  \n",
            " |  dl(self, ds_type:fastai.basic_data.DatasetType=<DatasetType.Valid: 2>) -> fastai.basic_data.DeviceDataLoader\n",
            " |      Returns appropriate `Dataset` for validation, training, or test (`ds_type`).\n",
            " |  \n",
            " |  export(self, file:Union[pathlib.Path, str, _io.BufferedWriter, _io.BytesIO]='export.pkl')\n",
            " |      Export the minimal state of `self` for inference in `self.path/file`. `file` can be file-like (file or buffer)\n",
            " |  \n",
            " |  one_batch(self, ds_type:fastai.basic_data.DatasetType=<DatasetType.Train: 1>, detach:bool=True, denorm:bool=True, cpu:bool=True) -> Collection[torch.Tensor]\n",
            " |      Get one batch from the data loader of `ds_type`. Optionally `detach` and `denorm`.\n",
            " |  \n",
            " |  one_item(self, item, detach:bool=False, denorm:bool=False, cpu:bool=False)\n",
            " |      Get `item` into a batch. Optionally `detach` and `denorm`.\n",
            " |  \n",
            " |  remove_tfm(self, tfm:Callable) -> None\n",
            " |  \n",
            " |  sanity_check(self)\n",
            " |      Check the underlying data in the training set can be properly loaded.\n",
            " |  \n",
            " |  save(self, file:Union[pathlib.Path, str, _io.BufferedWriter, _io.BytesIO]='data_save.pkl') -> None\n",
            " |      Save the `DataBunch` in `self.path/file`. `file` can be file-like (file or buffer)\n",
            " |  \n",
            " |  show_batch(self, rows:int=5, ds_type:fastai.basic_data.DatasetType=<DatasetType.Train: 1>, reverse:bool=False, **kwargs) -> None\n",
            " |      Show a batch of data in `ds_type` on a few `rows`.\n",
            " |  \n",
            " |  ----------------------------------------------------------------------\n",
            " |  Class methods defined here:\n",
            " |  \n",
            " |  create(train_ds:torch.utils.data.dataset.Dataset, valid_ds:torch.utils.data.dataset.Dataset, test_ds:Union[torch.utils.data.dataset.Dataset, NoneType]=None, path:Union[pathlib.Path, str]='.', bs:int=64, val_bs:int=None, num_workers:int=2, dl_tfms:Union[Collection[Callable], NoneType]=None, device:torch.device=None, collate_fn:Callable=<function data_collate at 0x7f5ccb36b400>, no_check:bool=False, **dl_kwargs) -> 'DataBunch' from builtins.type\n",
            " |      Create a `DataBunch` from `train_ds`, `valid_ds` and maybe `test_ds` with a batch size of `bs`. Passes `**dl_kwargs` to `DataLoader()`\n",
            " |  \n",
            " |  load_empty = _databunch_load_empty(path, fname:str='export.pkl') from builtins.type\n",
            " |      Load an empty `DataBunch` from the exported file in `path/fname` with optional `tfms`.\n",
            " |  \n",
            " |  ----------------------------------------------------------------------\n",
            " |  Data descriptors defined here:\n",
            " |  \n",
            " |  __dict__\n",
            " |      dictionary for instance variables (if defined)\n",
            " |  \n",
            " |  __weakref__\n",
            " |      list of weak references to the object (if defined)\n",
            " |  \n",
            " |  batch_size\n",
            " |  \n",
            " |  dls\n",
            " |      Returns a list of all DeviceDataLoaders. If you need a specific DeviceDataLoader, access via the relevant property (`train_dl`, `valid_dl`, etc) as the index of DLs in this list is not guaranteed to remain constant.\n",
            " |  \n",
            " |  empty_val\n",
            " |  \n",
            " |  fix_ds\n",
            " |  \n",
            " |  is_empty\n",
            " |  \n",
            " |  loss_func\n",
            " |  \n",
            " |  single_ds\n",
            " |  \n",
            " |  test_ds\n",
            " |  \n",
            " |  train_ds\n",
            " |  \n",
            " |  valid_ds\n",
            "\n"
          ],
          "name": "stdout"
        }
      ]
    },
    {
      "cell_type": "markdown",
      "metadata": {
        "id": "UFzPmqepY0eF",
        "colab_type": "text"
      },
      "source": [
        "\\# x,y를 데이터 셋의 다음 데이터로 이동, 사이즈 출력"
      ]
    },
    {
      "cell_type": "code",
      "metadata": {
        "id": "xt3hJUPDvCkO",
        "colab_type": "code",
        "colab": {}
      },
      "source": [
        "class Mnist_Logistic(nn.Module):\n",
        "    def __init__(self):\n",
        "        super().__init__()\n",
        "        self.lin = nn.Linear(784, 10, bias=True)\n",
        "\n",
        "    def forward(self, xb): return self.lin(xb)"
      ],
      "execution_count": 0,
      "outputs": []
    },
    {
      "cell_type": "markdown",
      "metadata": {
        "id": "uzP-XgC3a-bP",
        "colab_type": "text"
      },
      "source": [
        "\\# 바이어스가 있는 선형레이어를 한 개 가지는 클래스 생성"
      ]
    },
    {
      "cell_type": "code",
      "metadata": {
        "id": "RBeYblSgvCkQ",
        "colab_type": "code",
        "colab": {}
      },
      "source": [
        "model = Mnist_Logistic().cuda()"
      ],
      "execution_count": 0,
      "outputs": []
    },
    {
      "cell_type": "code",
      "metadata": {
        "id": "XkqjY1msvCkR",
        "colab_type": "code",
        "outputId": "5be3440f-1fa9-4c5a-9bf4-a1b7e826d5f2",
        "colab": {
          "base_uri": "https://localhost:8080/",
          "height": 71
        }
      },
      "source": [
        "model"
      ],
      "execution_count": 17,
      "outputs": [
        {
          "output_type": "execute_result",
          "data": {
            "text/plain": [
              "Mnist_Logistic(\n",
              "  (lin): Linear(in_features=784, out_features=10, bias=True)\n",
              ")"
            ]
          },
          "metadata": {
            "tags": []
          },
          "execution_count": 17
        }
      ]
    },
    {
      "cell_type": "markdown",
      "metadata": {
        "id": "1FcioBkbbJhp",
        "colab_type": "text"
      },
      "source": [
        "\\# 모델 출력\n",
        "바이어스가 있는 선형 레이어, in  784, out 10"
      ]
    },
    {
      "cell_type": "code",
      "metadata": {
        "id": "nE1dowmPvCkU",
        "colab_type": "code",
        "outputId": "dfa4c6c7-ad69-48d9-dc11-88f4f92ae5e4",
        "colab": {
          "base_uri": "https://localhost:8080/",
          "height": 35
        }
      },
      "source": [
        "model.lin"
      ],
      "execution_count": 18,
      "outputs": [
        {
          "output_type": "execute_result",
          "data": {
            "text/plain": [
              "Linear(in_features=784, out_features=10, bias=True)"
            ]
          },
          "metadata": {
            "tags": []
          },
          "execution_count": 18
        }
      ]
    },
    {
      "cell_type": "code",
      "metadata": {
        "id": "m51uDb4CvCkV",
        "colab_type": "code",
        "outputId": "2c643cbc-0404-411b-8688-51453b270970",
        "colab": {
          "base_uri": "https://localhost:8080/",
          "height": 35
        }
      },
      "source": [
        "model(x).shape"
      ],
      "execution_count": 19,
      "outputs": [
        {
          "output_type": "execute_result",
          "data": {
            "text/plain": [
              "torch.Size([64, 10])"
            ]
          },
          "metadata": {
            "tags": []
          },
          "execution_count": 19
        }
      ]
    },
    {
      "cell_type": "markdown",
      "metadata": {
        "id": "JQCk-XOTb1Qo",
        "colab_type": "text"
      },
      "source": [
        "\\# x를 모델 형태로 사이즈 출력"
      ]
    },
    {
      "cell_type": "code",
      "metadata": {
        "id": "cC1VDnRRvCkX",
        "colab_type": "code",
        "outputId": "a8f85129-054b-4d4d-93f7-27f86d1c6b8b",
        "colab": {
          "base_uri": "https://localhost:8080/",
          "height": 35
        }
      },
      "source": [
        "[p.shape for p in model.parameters()]"
      ],
      "execution_count": 20,
      "outputs": [
        {
          "output_type": "execute_result",
          "data": {
            "text/plain": [
              "[torch.Size([10, 784]), torch.Size([10])]"
            ]
          },
          "metadata": {
            "tags": []
          },
          "execution_count": 20
        }
      ]
    },
    {
      "cell_type": "markdown",
      "metadata": {
        "id": "Dnha0PyXb_Zz",
        "colab_type": "text"
      },
      "source": [
        "\\# 모델의 파라미터의 사이즈 모두 출력"
      ]
    },
    {
      "cell_type": "code",
      "metadata": {
        "id": "92xhg9jcvCkY",
        "colab_type": "code",
        "colab": {}
      },
      "source": [
        "lr=2e-2"
      ],
      "execution_count": 0,
      "outputs": []
    },
    {
      "cell_type": "markdown",
      "metadata": {
        "id": "YQ_MkB-GcOhj",
        "colab_type": "text"
      },
      "source": [
        "\\# 학습율 설정"
      ]
    },
    {
      "cell_type": "code",
      "metadata": {
        "id": "O8dx0r6xvCka",
        "colab_type": "code",
        "colab": {}
      },
      "source": [
        "loss_func = nn.CrossEntropyLoss()"
      ],
      "execution_count": 0,
      "outputs": []
    },
    {
      "cell_type": "markdown",
      "metadata": {
        "id": "ON_B9SLXcQVf",
        "colab_type": "text"
      },
      "source": [
        "\\# 손실 함수"
      ]
    },
    {
      "cell_type": "code",
      "metadata": {
        "id": "MW1N7T2rvCkc",
        "colab_type": "code",
        "colab": {}
      },
      "source": [
        "def update(x,y,lr):\n",
        "    wd = 1e-5\n",
        "    y_hat = model(x)\n",
        "    # weight decay\n",
        "    w2 = 0.\n",
        "    for p in model.parameters(): w2 += (p**2).sum()\n",
        "    # add to regular loss\n",
        "    loss = loss_func(y_hat, y) + w2*wd\n",
        "    loss.backward()\n",
        "    with torch.no_grad():\n",
        "        for p in model.parameters():\n",
        "            p.sub_(lr * p.grad)\n",
        "            p.grad.zero_()\n",
        "    return loss.item()"
      ],
      "execution_count": 0,
      "outputs": []
    },
    {
      "cell_type": "markdown",
      "metadata": {
        "id": "u6fPmCk4cTlL",
        "colab_type": "text"
      },
      "source": [
        "\\# 학습율에 따른 업데이트 함수 정의\n",
        "\n",
        "\n",
        "x = torch.ones(n,2) \n",
        "\n",
        "\n",
        "def mse(y_hat, y): return ((y_hat-y)**2).mean()\n",
        "\n",
        "\n",
        "y_hat = x@a\n",
        "\n",
        "\n",
        "의 내용을 수행하여 손실을 계산\n",
        "\n",
        "\n"
      ]
    },
    {
      "cell_type": "code",
      "metadata": {
        "id": "-uJAzV35vCkd",
        "colab_type": "code",
        "colab": {}
      },
      "source": [
        "losses = [update(x,y,lr) for x,y in data.train_dl]"
      ],
      "execution_count": 0,
      "outputs": []
    },
    {
      "cell_type": "markdown",
      "metadata": {
        "id": "5QyUdQY2cpsy",
        "colab_type": "text"
      },
      "source": [
        "\\# 손실 업데이트를 데이텅 셋의 데이터를 인자로 수행"
      ]
    },
    {
      "cell_type": "code",
      "metadata": {
        "id": "BGuE80DHvCkf",
        "colab_type": "code",
        "outputId": "a346181f-0897-4939-991a-80e93f2658af",
        "colab": {
          "base_uri": "https://localhost:8080/",
          "height": 265
        }
      },
      "source": [
        "plt.plot(losses);"
      ],
      "execution_count": 25,
      "outputs": [
        {
          "output_type": "display_data",
          "data": {
            "image/png": "[encoded data removed]",
            "text/plain": [
              "<Figure size 432x288 with 1 Axes>"
            ]
          },
          "metadata": {
            "tags": [],
            "needs_background": "light"
          }
        }
      ]
    },
    {
      "cell_type": "markdown",
      "metadata": {
        "id": "U5j1K4WJcxqP",
        "colab_type": "text"
      },
      "source": [
        "\\# 업데이트 된 손실 계산을 그래프로 출력"
      ]
    },
    {
      "cell_type": "code",
      "metadata": {
        "id": "uBg0pkKKvCkg",
        "colab_type": "code",
        "colab": {}
      },
      "source": [
        "class Mnist_NN(nn.Module):\n",
        "    def __init__(self):\n",
        "        super().__init__()\n",
        "        self.lin1 = nn.Linear(784, 50, bias=True)\n",
        "        self.lin2 = nn.Linear(50, 10, bias=True)\n",
        "\n",
        "    def forward(self, xb):\n",
        "        x = self.lin1(xb)\n",
        "        x = F.relu(x)\n",
        "        return self.lin2(x)"
      ],
      "execution_count": 0,
      "outputs": []
    },
    {
      "cell_type": "markdown",
      "metadata": {
        "id": "LHUw4iU2dAQf",
        "colab_type": "text"
      },
      "source": [
        "\\# 선형레이어를 2개 가지는 클래스 생성"
      ]
    },
    {
      "cell_type": "code",
      "metadata": {
        "id": "nYR2znG1vCki",
        "colab_type": "code",
        "colab": {}
      },
      "source": [
        "model = Mnist_NN().cuda()"
      ],
      "execution_count": 0,
      "outputs": []
    },
    {
      "cell_type": "code",
      "metadata": {
        "id": "22kMEn0vvCkj",
        "colab_type": "code",
        "colab": {}
      },
      "source": [
        "losses = [update(x,y,lr) for x,y in data.train_dl]"
      ],
      "execution_count": 0,
      "outputs": []
    },
    {
      "cell_type": "code",
      "metadata": {
        "id": "AzvdPbvivCkl",
        "colab_type": "code",
        "outputId": "cd3b90c1-9bd1-4ec4-9a88-6712466426ff",
        "colab": {
          "base_uri": "https://localhost:8080/",
          "height": 265
        }
      },
      "source": [
        "plt.plot(losses);"
      ],
      "execution_count": 29,
      "outputs": [
        {
          "output_type": "display_data",
          "data": {
            "image/png": "[encoded data removed]",
            "text/plain": [
              "<Figure size 432x288 with 1 Axes>"
            ]
          },
          "metadata": {
            "tags": [],
            "needs_background": "light"
          }
        }
      ]
    },
    {
      "cell_type": "markdown",
      "metadata": {
        "id": "2LXaJr_hdOPa",
        "colab_type": "text"
      },
      "source": [
        "\\# 선형 레이터 2개를 바탕으로 위의 손실 계산을 그대로 수행, 출력"
      ]
    },
    {
      "cell_type": "code",
      "metadata": {
        "id": "DQalRnInvCkn",
        "colab_type": "code",
        "colab": {}
      },
      "source": [
        "model = Mnist_NN().cuda()"
      ],
      "execution_count": 0,
      "outputs": []
    },
    {
      "cell_type": "code",
      "metadata": {
        "id": "r2Tiq0LuvCko",
        "colab_type": "code",
        "colab": {}
      },
      "source": [
        "def update(x,y,lr):\n",
        "    opt = optim.Adam(model.parameters(), lr)\n",
        "    y_hat = model(x)\n",
        "    loss = loss_func(y_hat, y)\n",
        "    loss.backward()\n",
        "    opt.step()\n",
        "    opt.zero_grad()\n",
        "    return loss.item()"
      ],
      "execution_count": 0,
      "outputs": []
    },
    {
      "cell_type": "markdown",
      "metadata": {
        "id": "JizsXZhudUJa",
        "colab_type": "text"
      },
      "source": [
        "\\# 업데이트 함수 재정의, opt = 가중치를 계산할 optimizer\n",
        "\n",
        "\n",
        "step() = 매개변수 갱신\n",
        "\n",
        "\n",
        "zero_grad() = 갱신할 변수들에 대한 모든 변화도를 0으로 "
      ]
    },
    {
      "cell_type": "code",
      "metadata": {
        "id": "r7p_6AUevCkr",
        "colab_type": "code",
        "colab": {}
      },
      "source": [
        "losses = [update(x,y,1e-3) for x,y in data.train_dl]"
      ],
      "execution_count": 0,
      "outputs": []
    },
    {
      "cell_type": "code",
      "metadata": {
        "id": "Ay6HRmqjvCks",
        "colab_type": "code",
        "outputId": "ec073882-9bd0-4d07-b6d3-f0eabf1426b6",
        "colab": {
          "base_uri": "https://localhost:8080/",
          "height": 265
        }
      },
      "source": [
        "plt.plot(losses);"
      ],
      "execution_count": 33,
      "outputs": [
        {
          "output_type": "display_data",
          "data": {
            "image/png": "[encoded data removed]",
            "text/plain": [
              "<Figure size 432x288 with 1 Axes>"
            ]
          },
          "metadata": {
            "tags": [],
            "needs_background": "light"
          }
        }
      ]
    },
    {
      "cell_type": "markdown",
      "metadata": {
        "id": "PogSGWYge2-a",
        "colab_type": "text"
      },
      "source": [
        "\\# 위의 학습 및 손실 계산 후 그래프 출력"
      ]
    },
    {
      "cell_type": "code",
      "metadata": {
        "id": "GONxANGCvCkt",
        "colab_type": "code",
        "colab": {}
      },
      "source": [
        "learn = Learner(data, Mnist_NN(), loss_func=loss_func, metrics=accuracy)"
      ],
      "execution_count": 0,
      "outputs": []
    },
    {
      "cell_type": "markdown",
      "metadata": {
        "id": "n7DiQvJee9jn",
        "colab_type": "text"
      },
      "source": [
        "\\# 생성한 클래스를 모델로 러너 생성"
      ]
    },
    {
      "cell_type": "code",
      "metadata": {
        "id": "jl7LXlWxvCkw",
        "colab_type": "code",
        "outputId": "9af51b0a-f6f3-41b6-f7c0-62fc7f53e4a1",
        "colab": {
          "base_uri": "https://localhost:8080/",
          "height": 376
        }
      },
      "source": [
        "learn.lr_find()\n",
        "learn.recorder.plot()"
      ],
      "execution_count": 35,
      "outputs": [
        {
          "output_type": "display_data",
          "data": {
            "text/html": [
              "\n",
              "    <div>\n",
              "        <style>\n",
              "            /* Turns off some styling */\n",
              "            progress {\n",
              "                /* gets rid of default border in Firefox and Opera. */\n",
              "                border: none;\n",
              "                /* Needs to be in here for Safari polyfill so background images work as expected. */\n",
              "                background-size: auto;\n",
              "            }\n",
              "            .progress-bar-interrupted, .progress-bar-interrupted::-webkit-progress-bar {\n",
              "                background: #F44336;\n",
              "            }\n",
              "        </style>\n",
              "      <progress value='0' class='' max='1' style='width:300px; height:20px; vertical-align: middle;'></progress>\n",
              "      0.00% [0/1 00:00<00:00]\n",
              "    </div>\n",
              "    \n",
              "<table border=\"1\" class=\"dataframe\">\n",
              "  <thead>\n",
              "    <tr style=\"text-align: left;\">\n",
              "      <th>epoch</th>\n",
              "      <th>train_loss</th>\n",
              "      <th>valid_loss</th>\n",
              "      <th>accuracy</th>\n",
              "      <th>time</th>\n",
              "    </tr>\n",
              "  </thead>\n",
              "  <tbody>\n",
              "  </tbody>\n",
              "</table><p>\n",
              "\n",
              "    <div>\n",
              "        <style>\n",
              "            /* Turns off some styling */\n",
              "            progress {\n",
              "                /* gets rid of default border in Firefox and Opera. */\n",
              "                border: none;\n",
              "                /* Needs to be in here for Safari polyfill so background images work as expected. */\n",
              "                background-size: auto;\n",
              "            }\n",
              "            .progress-bar-interrupted, .progress-bar-interrupted::-webkit-progress-bar {\n",
              "                background: #F44336;\n",
              "            }\n",
              "        </style>\n",
              "      <progress value='88' class='' max='781' style='width:300px; height:20px; vertical-align: middle;'></progress>\n",
              "      11.27% [88/781 00:00<00:04 2.2130]\n",
              "    </div>\n",
              "    "
            ],
            "text/plain": [
              "<IPython.core.display.HTML object>"
            ]
          },
          "metadata": {
            "tags": []
          }
        },
        {
          "output_type": "stream",
          "text": [
            "LR Finder is complete, type {learner_name}.recorder.plot() to see the graph.\n"
          ],
          "name": "stdout"
        },
        {
          "output_type": "display_data",
          "data": {
            "image/png": "[encoded data removed]",
            "text/plain": [
              "<Figure size 432x288 with 1 Axes>"
            ]
          },
          "metadata": {
            "tags": [],
            "needs_background": "light"
          }
        }
      ]
    },
    {
      "cell_type": "markdown",
      "metadata": {
        "id": "nEY7we9CiIvU",
        "colab_type": "text"
      },
      "source": [
        "\\# 학습율 최적값 탐색, 그래프로 출력"
      ]
    },
    {
      "cell_type": "code",
      "metadata": {
        "id": "qQYO2P4dvCkx",
        "colab_type": "code",
        "outputId": "e4899115-0ed3-42cc-9820-1a2fff7a425b",
        "colab": {
          "base_uri": "https://localhost:8080/",
          "height": 80
        }
      },
      "source": [
        "learn.fit_one_cycle(1, 1e-2)"
      ],
      "execution_count": 36,
      "outputs": [
        {
          "output_type": "display_data",
          "data": {
            "text/html": [
              "<table border=\"1\" class=\"dataframe\">\n",
              "  <thead>\n",
              "    <tr style=\"text-align: left;\">\n",
              "      <th>epoch</th>\n",
              "      <th>train_loss</th>\n",
              "      <th>valid_loss</th>\n",
              "      <th>accuracy</th>\n",
              "      <th>time</th>\n",
              "    </tr>\n",
              "  </thead>\n",
              "  <tbody>\n",
              "    <tr>\n",
              "      <td>0</td>\n",
              "      <td>0.143503</td>\n",
              "      <td>0.133811</td>\n",
              "      <td>0.959100</td>\n",
              "      <td>00:05</td>\n",
              "    </tr>\n",
              "  </tbody>\n",
              "</table>"
            ],
            "text/plain": [
              "<IPython.core.display.HTML object>"
            ]
          },
          "metadata": {
            "tags": []
          }
        }
      ]
    },
    {
      "cell_type": "markdown",
      "metadata": {
        "id": "0iXY6V1vkYo1",
        "colab_type": "text"
      },
      "source": [
        "\\# 1획 학습, 학습율 1e-2"
      ]
    },
    {
      "cell_type": "code",
      "metadata": {
        "id": "TAHthNlUvCkz",
        "colab_type": "code",
        "outputId": "18f5fcae-c832-426d-c2f6-35fde89a5970",
        "colab": {
          "base_uri": "https://localhost:8080/",
          "height": 279
        }
      },
      "source": [
        "learn.recorder.plot_lr(show_moms=True)"
      ],
      "execution_count": 37,
      "outputs": [
        {
          "output_type": "display_data",
          "data": {
            "image/png": "[encoded data removed]",
            "text/plain": [
              "<Figure size 864x288 with 2 Axes>"
            ]
          },
          "metadata": {
            "tags": [],
            "needs_background": "light"
          }
        }
      ]
    },
    {
      "cell_type": "markdown",
      "metadata": {
        "id": "3-PlfpYdkeD5",
        "colab_type": "text"
      },
      "source": [
        "\\# 이터레이션 진행에 따른 학습율, 모멘텀 그래프 출력"
      ]
    },
    {
      "cell_type": "code",
      "metadata": {
        "id": "Tu4H01khvCk0",
        "colab_type": "code",
        "outputId": "b596d3bb-524e-44d3-8369-deec255ac07b",
        "colab": {
          "base_uri": "https://localhost:8080/",
          "height": 279
        }
      },
      "source": [
        "learn.recorder.plot_losses()"
      ],
      "execution_count": 38,
      "outputs": [
        {
          "output_type": "display_data",
          "data": {
            "image/png": "[encoded data removed]",
            "text/plain": [
              "<Figure size 432x288 with 1 Axes>"
            ]
          },
          "metadata": {
            "tags": [],
            "needs_background": "light"
          }
        }
      ]
    },
    {
      "cell_type": "markdown",
      "metadata": {
        "id": "563Ln4Y7vCk2",
        "colab_type": "text"
      },
      "source": [
        "## fin"
      ]
    },
    {
      "cell_type": "code",
      "metadata": {
        "id": "Q49IaikcvCk2",
        "colab_type": "code",
        "colab": {}
      },
      "source": [
        ""
      ],
      "execution_count": 0,
      "outputs": []
    }
  ]
}